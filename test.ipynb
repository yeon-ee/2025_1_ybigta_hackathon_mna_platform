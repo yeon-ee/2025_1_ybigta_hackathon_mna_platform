{
 "cells": [
  {
   "cell_type": "code",
   "execution_count": 3,
   "metadata": {},
   "outputs": [
    {
     "data": {
      "text/plain": [
       "True"
      ]
     },
     "execution_count": 3,
     "metadata": {},
     "output_type": "execute_result"
    }
   ],
   "source": [
    "from langchain.agents import initialize_agent, Tool\n",
    "from langchain_upstage import ChatUpstage\n",
    "from langchain.memory import ConversationBufferMemory\n",
    "from langchain.agents.agent_types import AgentType\n",
    "import os\n",
    "from dotenv import load_dotenv\n",
    "load_dotenv()\n"
   ]
  },
  {
   "cell_type": "code",
   "execution_count": null,
   "metadata": {},
   "outputs": [
    {
     "name": "stdout",
     "output_type": "stream",
     "text": [
      "\n",
      "\n",
      "🧠 전체 대화 로그:\n",
      "지구 온난화를 해결할 수 있는 방안을 제시해줘.\n",
      "A: content='지구 온난화를 해결하기 위한 몇 가지 아이디어를 제시해 드리겠습니다:\\n\\n1. 재생 에너지로의 전환: 화석 연료를 태양, 풍력, 수력과 같은 재생 에너지원으로 대체함으로써 온실 가스 배출을 크게 줄일 수 있습니다.\\n\\n2. 에너지 효율성 향상: 에너지 효율적인 가전제품, 건물 및 교통 수단을 사용하여 에너지 소비를 줄일 수 있습니다.\\n\\n3. 재조림 및 조림: 나무를 더 많이 심고 숲을 복원함으로써 대기 중의 이산화탄소를 흡수하고 저장할 수 있습니다.\\n\\n4. 지속 가능한 농업: 지속 가능한 농업 관행을 통해 토양 건강과 생물 다양성을 개선하고 메탄 배출을 줄일 수 있습니다.\\n\\n5. 폐기물 감소 및 재활용: 폐기물 발생을 줄이고 재활용을 늘림으로써 매립지에서 발생하는 메탄 배출을 줄일 수 있습니다.\\n\\n6. 대중 교통 및 친환경 교통 수단 장려: 대중 교통, 자전거, 도보 및 전기 자동차와 같은 친환경 교통 수단을 장려함으로써 온실 가스 배출을 줄일 수 있습니다.\\n\\n7. 탄소 포집 및 저장: 발전소, 산업 공정 및 기타 소스에서 배출되는 이산화탄소를 포집하여 지하에 저장함으로써 대기 중에서 제거할 수 있습니다.\\n\\n8. 교육 및 인식 제고: 대중에게 지구 온난화의 원인과 결과에 대해 교육하고, 개인이 탄소 발자국을 줄이기 위해 취할 수 있는 조치에 대해 알리는 것이 중요합니다.\\n\\n이러한 아이디어들은 함께 실행될 때 지구 온난화를 해결하고 그 영향을 완화하는 데 도움이 될 수 있습니다.' additional_kwargs={'refusal': None} response_metadata={'token_usage': {'completion_tokens': 323, 'prompt_tokens': 29, 'total_tokens': 352, 'completion_tokens_details': None, 'prompt_tokens_details': None}, 'model_name': 'solar-pro-241126', 'system_fingerprint': None, 'id': 'd131c5d0-4a9f-43c4-827d-4d8a9a5c9ff0', 'finish_reason': 'stop', 'logprobs': None} id='run-8d4eb9fe-c6c3-4f1f-9eb1-ffdb8ab2b865-0' usage_metadata={'input_tokens': 29, 'output_tokens': 323, 'total_tokens': 352, 'input_token_details': {}, 'output_token_details': {}}\n",
      "B: content='제안된 아이디어들은 대체로 타당하고 지구 온난화 해결에 도움이 될 수 있습니다. 그러나 몇 가지 개선점과 주의할 점이 있습니다:\\n\\n1. 재생 에너지로의 전환: 재생 에너지원은 간헐적인 특성을 가지고 있으며, 대규모 에너지 저장 솔루션이 필요합니다. 또한, 재생 에너지 인프라를 구축하는 데 필요한 원자재 채굴 및 제조 과정에서도 환경 영향이 발생할 수 있습니다.\\n\\n2. 에너지 효율성 향상: 에너지 효율적인 기술은 종종 더 높은 초기 비용이 들며, 이를 보완하기 위한 정책과 인센티브가 필요할 수 있습니다.\\n\\n3. 재조림 및 조림: 나무를 심는 것은 중요하지만, 올바른 종을 선택하고 적절한 환경에 심어야 합니다. 또한, 산림 벌채의 근본적인 원인, 예를 들어 농업 목적의 토지 개간이나 불법 벌채 등을 해결해야 합니다.\\n\\n4. 지속 가능한 농업: 지속 가능한 농업은 중요하지만, 농민들에게 교육과 재정적 지원이 필요합니다. 또한, 산업화된 농업의 환경적 영향에 대한 규제도 고려해야 합니다.\\n\\n5. 폐기물 감소 및 재활용: 폐기물 감소 및 재활용은 중요하지만, 이를 위한 인프라와 대중의 인식 제고가 필요합니다. 또한, 재활용 가능한 재료의 설계와 생산에 대한 고려도 필요합니다.\\n\\n6. 대중 교통 및 친환경 교통 수단 장려: 대중 교통 및 친환경 교통 수단은 중요하지만, 이를 위한 인프라와 인센티브가 필요합니다. 또한, 개인 차량 사용을 줄이는 정책도 고려해야 합니다.\\n\\n7. 탄소 포집 및 저장: 탄소 포집 및 저장은 유망한 기술이지만, 아직 초기 단계에 있으며, 비용과 효율성 측면에서 개선이 필요합니다. 또한, 이 기술에 대한 과도한 의존은 화석 연료 사용을 지속시킬 수 있습니다.\\n\\n8. 교육 및 인식 제고: 대중 교육은 중요하지만, 이를 위한 효과적인 방법과 메시지가 필요합니다. 또한, 지구 온난화 해결에 대한 정치적, 경제적, 사회적 장벽을 극복하기 위한 노력이 필요합니다.\\n\\n전반적으로, 제안된 아이디어들은 종합적인 지구 온난화 해결책의 일부가 되어야 합니다. 각 아이디어는 특정 맥락과 도전에 맞게 조정되어야 하며, 정책, 인프라, 교육, 기술 등 다양한 측면에서 접근해야 합니다.' additional_kwargs={'refusal': None} response_metadata={'token_usage': {'completion_tokens': 455, 'prompt_tokens': 603, 'total_tokens': 1058, 'completion_tokens_details': None, 'prompt_tokens_details': None}, 'model_name': 'solar-pro-241126', 'system_fingerprint': None, 'id': '46b785aa-ec4f-4e1a-b280-f3e7c110dbc6', 'finish_reason': 'stop', 'logprobs': None} id='run-c71468e5-5d19-4c92-b086-8331a92997ef-0' usage_metadata={'input_tokens': 603, 'output_tokens': 455, 'total_tokens': 1058, 'input_token_details': {}, 'output_token_details': {}}\n",
      "A: content='제안된 아이디어들을 보완하기 위해 몇 가지 개선점과 주의할 점을 제안 드렸습니다. 이러한 점들을 고려하여 각 아이디어를 구체화하고, 정책, 인프라, 교육, 기술 등 다양한 측면에서 접근한다면, 종합적인 지구 온난화 해결책을 마련할 수 있을 것입니다.' additional_kwargs={'refusal': None} response_metadata={'token_usage': {'completion_tokens': 57, 'prompt_tokens': 739, 'total_tokens': 796, 'completion_tokens_details': None, 'prompt_tokens_details': None}, 'model_name': 'solar-pro-241126', 'system_fingerprint': None, 'id': 'f6d28018-6302-4dc3-9869-bac7c9272a5c', 'finish_reason': 'stop', 'logprobs': None} id='run-2d5dac8f-b427-4da5-b679-17c85ea815ba-0' usage_metadata={'input_tokens': 739, 'output_tokens': 57, 'total_tokens': 796, 'input_token_details': {}, 'output_token_details': {}}\n",
      "B: content='비판적 검토자로서, 제안된 개선점과 주의할 점들은 가치 있는 통찰력을 제공합니다. 그러나 이러한 점들이 각 아이디어에 어떻게 적용되는지에 대한 구체적인 예시나 설명이 부족합니다. 더 나은 이해를 위해, 개선점과 주의할 점들을 각 아이디어에 어떻게 통합할 것인지, 그리고 이러한 통합이 어떤 결과를 가져올 것인지에 대한 자세한 설명을 추가하는 것이 좋습니다. 또한, 종합적인 지구 온난화 해결책을 마련하기 위해서는 다양한 측면에서의 접근이 필요하다는 점에 동의하지만, 각 측면에서의 구체적인 전략과 실행 계획을 제시하는 것이 더 효과적일 것입니다.' additional_kwargs={'refusal': None} response_metadata={'token_usage': {'completion_tokens': 120, 'prompt_tokens': 328, 'total_tokens': 448, 'completion_tokens_details': None, 'prompt_tokens_details': None}, 'model_name': 'solar-pro-241126', 'system_fingerprint': None, 'id': 'a6f2b28b-c420-4ff6-bc2f-4cd26fc644b8', 'finish_reason': 'stop', 'logprobs': None} id='run-08f6c332-dd63-414e-9eef-ed694f8baeb5-0' usage_metadata={'input_tokens': 328, 'output_tokens': 120, 'total_tokens': 448, 'input_token_details': {}, 'output_token_details': {}}\n",
      "A: content='제안하신 개선점과 주의할 점들은 매우 타당합니다. 각 아이디어에 구체적인 예시와 설명을 추가하여 더 나은 이해를 돕고, 개선점과 주의할 점들을 어떻게 통합할 것인지, 그리고 이러한 통합이 어떤 결과를 가져올 것인지에 대한 자세한 설명을 제공하도록 하겠습니다. 또한, 종합적인 지구 온난화 해결책을 마련하기 위해 각 측면에서의 구체적인 전략과 실행 계획을 제시하여 더 효과적인 해결책을 마련할 수 있도록 하겠습니다.\\n\\n예를 들어, 재생 에너지 활용을 늘리는 아이디어에 대해서는 다음과 같이 개선점과 주의할 점들을 통합할 수 있습니다:\\n\\n* 개선점: 재생 에너지 기술 개발 및 보급을 위한 정부 지원과 투자를 늘리는 방안을 모색합니다.\\n\\t+ 구체적인 예시: 정부 보조금, 세제 혜택, 연구 개발 지원 등을 통해 재생 에너지 기술 개발과 보급을 촉진합니다.\\n\\t+ 예상 결과: 재생 에너지 기술의 가격 경쟁력이 향상되고, 보급이 확대되어 온실가스 배출량이 감소합니다.\\n* 주의할 점: 재생 에너지 기술 개발과 보급에 따른 환경적, 사회적 영향을 고려합니다.\\n\\t+ 구체적인 예시: 재생 에너지 설비 설치로 인한 생태계 파괴, 주민 수용성 문제 등을 고려하여 환경 영향 평가, 주민 참여 보장 등의 대책을 마련합니다.\\n\\t+ 예상 결과: 재생 에너지 기술 개발과 보급이 지속 가능하고 사회적으로 수용 가능한 방식으로 이루어집니다.\\n\\n이와 같이, 각 아이디어에 구체적인 예시와 설명을 추가하여 개선점과 주의할 점들을 통합하고, 더 효과적인 해결책을 마련할 수 있도록 하겠습니다.' additional_kwargs={'refusal': None} response_metadata={'token_usage': {'completion_tokens': 312, 'prompt_tokens': 389, 'total_tokens': 701, 'completion_tokens_details': None, 'prompt_tokens_details': None}, 'model_name': 'solar-pro-241126', 'system_fingerprint': None, 'id': 'd748e22e-620a-48f2-9466-a093d21e36cf', 'finish_reason': 'stop', 'logprobs': None} id='run-83e2ce02-a2d4-4640-b971-43f1533b362c-0' usage_metadata={'input_tokens': 389, 'output_tokens': 312, 'total_tokens': 701, 'input_token_details': {}, 'output_token_details': {}}\n",
      "B: content='제안하신 비판적 검토에 따라, 각 아이디어에 구체적인 예시와 설명을 추가하여 개선점과 주의할 점들을 통합하고, 더 효과적인 해결책을 마련할 수 있도록 하겠습니다. 예를 들어, 재생 에너지 활용을 늘리는 아이디어에 대해서는 다음과 같이 개선점과 주의할 점들을 통합할 수 있습니다.\\n\\n* 개선점: 재생 에너지 기술 개발 및 보급을 위한 정부 지원과 투자를 늘리는 방안을 모색합니다.\\n\\t+ 구체적인 예시: 정부 보조금, 세제 혜택, 연구 개발 지원 등을 통해 재생 에너지 기술 개발과 보급을 촉진합니다.\\n\\t+ 예상 결과: 재생 에너지 기술의 가격 경쟁력이 향상되고, 보급이 확대되어 온실가스 배출량이 감소합니다.\\n* 주의할 점: 재생 에너지 기술 개발과 보급에 따른 환경적, 사회적 영향을 고려합니다.\\n\\t+ 구체적인 예시: 재생 에너지 설비 설치로 인한 생태계 파괴, 주민 수용성 문제 등을 고려하여 환경 영향 평가, 주민 참여 보장 등의 대책을 마련합니다.\\n\\t+ 예상 결과: 재생 에너지 기술 개발과 보급이 지속 가능하고 사회적으로 수용 가능한 방식으로 이루어집니다.\\n\\n이와 같이, 각 아이디어에 구체적인 예시와 설명을 추가하여 개선점과 주의할 점들을 통합하고, 더 효과적인 해결책을 마련할 수 있도록 하겠습니다. 이를 통해 종합적인 지구 온난화 해결책을 마련하고, 각 측면에서의 구체적인 전략과 실행 계획을 제시하여 더 나은 미래를 위한 노력을 기울이겠습니다.' additional_kwargs={'refusal': None} response_metadata={'token_usage': {'completion_tokens': 290, 'prompt_tokens': 597, 'total_tokens': 887, 'completion_tokens_details': None, 'prompt_tokens_details': None}, 'model_name': 'solar-pro-241126', 'system_fingerprint': None, 'id': 'f489079f-dea5-4584-b992-37e74be1510c', 'finish_reason': 'stop', 'logprobs': None} id='run-1b804f00-cfab-448d-9614-daa9c852cc8c-0' usage_metadata={'input_tokens': 597, 'output_tokens': 290, 'total_tokens': 887, 'input_token_details': {}, 'output_token_details': {}}\n"
     ]
    }
   ],
   "source": [
    "import os\n",
    "\n",
    "from langchain_upstage import ChatUpstage\n",
    "from langgraph.graph import StateGraph, END\n",
    "from typing import TypedDict\n",
    "\n",
    "# 1. 상태 정의\n",
    "class AgentState(TypedDict):\n",
    "    history: list[str]\n",
    "    turn: int\n",
    "\n",
    "# 2. 두 에이전트 정의\n",
    "llm_a = ChatUpstage(api_key=os.getenv(\"SOLAR_API_KEY\"), model='solar-pro', max_tokens=100)\n",
    "llm_b = ChatUpstage(api_key=os.getenv(\"SOLAR_API_KEY\"), model='solar-pro', max_tokens=100)\n",
    "\n",
    "def agent_a_node(state: AgentState) -> AgentState:\n",
    "    msg = state[\"history\"][-1]\n",
    "    response = llm_a.invoke(f\"[역할: 아이디어 제안자] {msg}\")\n",
    "    return {\"history\": state[\"history\"] + [f\"A: {response}\"], \"turn\": state[\"turn\"] + 1}\n",
    "\n",
    "def agent_b_node(state: AgentState) -> AgentState:\n",
    "    msg = state[\"history\"][-1]\n",
    "    response = llm_b.invoke(f\"[역할: 비판적 검토자] {msg}\")\n",
    "    return {\"history\": state[\"history\"] + [f\"B: {response}\"], \"turn\": state[\"turn\"] + 1}\n",
    "\n",
    "def check_done(state: AgentState) -> str:\n",
    "    last_msg = state[\"history\"][-1]\n",
    "    if \"결론\" in last_msg or state[\"turn\"] >= 6:\n",
    "        return END\n",
    "    return \"a\" if state[\"turn\"] % 2 == 0 else \"b\"\n",
    "\n",
    "# 3. 그래프 정의\n",
    "workflow = StateGraph(AgentState)\n",
    "workflow.add_node(\"a\", agent_a_node)\n",
    "workflow.add_node(\"b\", agent_b_node)\n",
    "workflow.set_entry_point(\"a\")\n",
    "workflow.add_conditional_edges(\"a\", check_done)\n",
    "workflow.add_conditional_edges(\"b\", check_done)\n",
    "\n",
    "graph = workflow.compile()\n",
    "\n",
    "# 4. 실행\n",
    "initial_state = {\"history\": [\"살 안찌고 맛있는 저녁 메뉴 추천해줘.\"], \"turn\": 0}\n",
    "final_state = graph.invoke(initial_state)\n",
    "\n",
    "# 결과 출력\n",
    "print(\"\\n\\n🧠 전체 대화 로그:\")\n",
    "for msg in final_state[\"history\"]:\n",
    "    print(msg)\n"
   ]
  }
 ],
 "metadata": {
  "kernelspec": {
   "display_name": "mna",
   "language": "python",
   "name": "python3"
  },
  "language_info": {
   "codemirror_mode": {
    "name": "ipython",
    "version": 3
   },
   "file_extension": ".py",
   "mimetype": "text/x-python",
   "name": "python",
   "nbconvert_exporter": "python",
   "pygments_lexer": "ipython3",
   "version": "3.10.16"
  }
 },
 "nbformat": 4,
 "nbformat_minor": 2
}
