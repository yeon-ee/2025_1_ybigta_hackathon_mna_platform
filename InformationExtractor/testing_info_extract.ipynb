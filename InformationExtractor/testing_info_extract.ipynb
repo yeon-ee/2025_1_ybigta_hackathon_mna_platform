{
 "cells": [
  {
   "cell_type": "code",
   "execution_count": 11,
   "metadata": {},
   "outputs": [],
   "source": [
    "import sys\n",
    "import os\n",
    "from pathlib import Path\n",
    "sys.path.append(\"../InformationExtractor\")  # 경로는 위치에 맞게 조정\n",
    "from financial_info_extractor import FinancialInfoExtractor, format_financial_data, add_new_company\n"
   ]
  },
  {
   "cell_type": "code",
   "execution_count": 12,
   "metadata": {},
   "outputs": [],
   "source": [
    "project_root = Path.cwd().parent\n",
    "pdf_path = os.path.join(project_root, \"Dataset\", \"meatbox\", \"meatbox_finance.pdf\")"
   ]
  },
  {
   "cell_type": "code",
   "execution_count": null,
   "metadata": {},
   "outputs": [
    {
     "name": "stdout",
     "output_type": "stream",
     "text": [
      "▶ Step 1: PDF에서 정보 추출 중...\n"
     ]
    }
   ],
   "source": [
    "extractor = FinancialInfoExtractor()\n",
    "\n",
    "print(\"▶ Step 1: PDF에서 정보 추출 중...\")\n",
    "raw_result = extractor.extract_information(pdf_path)\n",
    "print(\"✅ 추출 완료\")\n",
    "print(\"\\n🔍 원시 추출 결과:\")\n",
    "print(raw_result)\n",
    "\n",
    "print(\"\\n▶ Step 2: 포맷팅된 재무 데이터\")\n",
    "formatted = format_financial_data(raw_result)\n",
    "print(formatted)"
   ]
  },
  {
   "cell_type": "code",
   "execution_count": null,
   "metadata": {},
   "outputs": [],
   "source": [
    "print(\"\\n▶ Step 3: inno_company.json에 추가 테스트\")\n",
    "company_info = {\n",
    "    \"url\": \"https://example.com\",\n",
    "    \"소개\": \"테스트 기업입니다.\",\n",
    "    \"상장여부\": \"비상장\",\n",
    "    \"설립일\": \"2020-01-01\",\n",
    "    \"웹사이트\": \"https://testcorp.com\",\n",
    "    \"주소\": \"서울시 성동구 성수동\",\n",
    "    \"카테고리\": [\"AI\", \"핀테크\"]\n",
    "}\n",
    "company_name = \"테스트컴퍼니\"\n",
    "\n",
    "result = add_new_company(pdf_path, company_name, company_info)\n",
    "print(f\"✅ 저장 성공 여부: {result}\")"
   ]
  }
 ],
 "metadata": {
  "kernelspec": {
   "display_name": "ds",
   "language": "python",
   "name": "python3"
  },
  "language_info": {
   "codemirror_mode": {
    "name": "ipython",
    "version": 3
   },
   "file_extension": ".py",
   "mimetype": "text/x-python",
   "name": "python",
   "nbconvert_exporter": "python",
   "pygments_lexer": "ipython3",
   "version": "3.10.16"
  }
 },
 "nbformat": 4,
 "nbformat_minor": 2
}
