{
 "cells": [
  {
   "cell_type": "code",
   "execution_count": 28,
   "metadata": {},
   "outputs": [
    {
     "name": "stdout",
     "output_type": "stream",
     "text": [
      "The autoreload extension is already loaded. To reload it, use:\n",
      "  %reload_ext autoreload\n"
     ]
    }
   ],
   "source": [
    "%load_ext autoreload\n",
    "%autoreload 2"
   ]
  },
  {
   "cell_type": "code",
   "execution_count": 14,
   "metadata": {},
   "outputs": [],
   "source": [
    "from checklist_reviewer import ChecklistReviewer\n",
    "from checklist_insepctor import ChecklistInspector\n",
    "from sell_side_agents import SellSideAgent"
   ]
  },
  {
   "cell_type": "code",
   "execution_count": 18,
   "metadata": {},
   "outputs": [
    {
     "data": {
      "text/plain": [
       "{'excluded_items': ['부채비율']}"
      ]
     },
     "execution_count": 18,
     "metadata": {},
     "output_type": "execute_result"
    }
   ],
   "source": [
    "user_query = \"헬스케어 산업에 종사하는, 연매출 100억 이상, 최근 1년 투자금 100억 이상, 작년 성장률 25% 이상, 영업이익률 10% 이상인 기업을 찾고 있습니다.\"\n",
    "checklist = {\n",
    "    \"산업/업종\": 20,\n",
    "    \"연매출\": 15,\n",
    "    \"투자유치\": 25,\n",
    "    \"부채비율\": 30,\n",
    "    \"영업이익률\": 10,\n",
    "    \"성장률\": 15,\n",
    "}\n",
    "reviewer = ChecklistReviewer()\n",
    "excluded_items = reviewer.review_checklist(checklist, user_query)\n",
    "excluded_items"
   ]
  },
  {
   "cell_type": "code",
   "execution_count": 19,
   "metadata": {},
   "outputs": [
    {
     "data": {
      "text/plain": [
       "{'산업/업종': 20, '연매출': 15, '투자유치': 25, '영업이익률': 10, '성장률': 15}"
      ]
     },
     "execution_count": 19,
     "metadata": {},
     "output_type": "execute_result"
    }
   ],
   "source": [
    "checklist = {key: value for key, value in checklist.items() if key not in excluded_items['excluded_items']}\n",
    "checklist"
   ]
  },
  {
   "cell_type": "code",
   "execution_count": 22,
   "metadata": {},
   "outputs": [],
   "source": [
    "def db_stub(company_name: str) -> str:\n",
    "    \"\"\"\n",
    "    Stub: 회사명으로 DB에서 데이터를 검색하는 함수\n",
    "    :param company_name: 평가 대상 회사명\n",
    "    :return: 회사 관련 정보를 포함한 문자열\n",
    "    \"\"\"\n",
    "    # Stub 데이터\n",
    "    return f\"{company_name}는 PT 강사 매칭 플랫폼으로, 2023년 매출 1235604450원을 기록하고 있으며, 2022년 6월에 200억원, 2021년 3월에 100억원의 투자금을 유치했습니다. 최근 3년 YoY Growth 30%입니다. 총 부채는 150000000000이며, 자기자본은 50000000000입니다.\"\n"
   ]
  },
  {
   "cell_type": "code",
   "execution_count": 29,
   "metadata": {},
   "outputs": [
    {
     "data": {
      "text/plain": [
       "'동연컴퍼니는 PT 강사 매칭 플랫폼을 운영하는 회사로, 최근 3년 동안 연평균 30%의 성장률을 기록하고 있습니다. 2023년 매출은 12억 3560만 4450원으로, 전년 대비 30% 성장했습니다. 동연컴퍼니는 2022년 6월에 200억원, 2021년 3월에 100억원의 투자금을 유치했으며, 현재 총 부채는 1500억원, 자기자본은 500억원입니다. 그러나 동연컴퍼니의 영업이익률은 제공된 데이터에 없습니다.'"
      ]
     },
     "execution_count": 29,
     "metadata": {},
     "output_type": "execute_result"
    }
   ],
   "source": [
    "company_name = \"동연컴퍼니\"\n",
    "sellside_agent = SellSideAgent(db_stub=db_stub)\n",
    "sellside_context = sellside_agent.generate_context(company_name, checklist)\n",
    "sellside_context"
   ]
  },
  {
   "cell_type": "code",
   "execution_count": 31,
   "metadata": {},
   "outputs": [
    {
     "data": {
      "text/plain": [
       "{'산업/업종': 20, '연매출': 15, '투자유치': 25, '영업이익률': 0, '성장률': 15}"
      ]
     },
     "execution_count": 31,
     "metadata": {},
     "output_type": "execute_result"
    }
   ],
   "source": [
    "inspector = ChecklistInspector()\n",
    "scores, total_score = inspector.inspect_checklist(checklist, sellside_context, user_query)\n",
    "scores"
   ]
  }
 ],
 "metadata": {
  "kernelspec": {
   "display_name": "mna",
   "language": "python",
   "name": "python3"
  },
  "language_info": {
   "codemirror_mode": {
    "name": "ipython",
    "version": 3
   },
   "file_extension": ".py",
   "mimetype": "text/x-python",
   "name": "python",
   "nbconvert_exporter": "python",
   "pygments_lexer": "ipython3",
   "version": "3.10.16"
  }
 },
 "nbformat": 4,
 "nbformat_minor": 2
}
