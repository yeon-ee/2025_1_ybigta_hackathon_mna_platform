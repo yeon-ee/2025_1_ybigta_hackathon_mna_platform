{
 "cells": [
  {
   "cell_type": "code",
   "execution_count": null,
   "metadata": {},
   "outputs": [],
   "source": [
    "import os\n",
    "from dotenv import load_dotenv\n",
    "load_dotenv()\n",
    "from langchain_upstage import ChatUpstage\n",
    "from langgraph.graph import StateGraph, END\n",
    "from typing import TypedDict"
   ]
  },
  {
   "cell_type": "code",
   "execution_count": 7,
   "metadata": {},
   "outputs": [
    {
     "name": "stdout",
     "output_type": "stream",
     "text": [
      "\n",
      "\n",
      "🧠 전체 대화 로그:\n",
      "안녕하세요! 동연컴퍼니의 투자유치 점검을 도와드리겠습니다. 회사 측 정보 중 필요한 것이 있다면 점검자님께서 요청해 주시고, 회사 측 전문가님께서는 성심성의껏 사실만을 대답해주시길 바랍니다.\n",
      "SellSideAgent: \n",
      "동연컴퍼니는 IT 및 소프트웨어 개발 업종에 속해 있습니다. 현재 동연컴퍼니의 연매출을 공개할 수는 없지만, 작년 대비 상당한 성장을 이루었으며, 안정적인 수익을 창출하고 있습니다. 동연컴퍼니는 현재까지 총 X억원 규모의 투자를 유치했으며, 이는 동종 업계 평균 이상의 수준입니다. 부채비율은 30% 미만으로 매우 낮은 수준을 유지하고 있으며, 이는 동연컴퍼니가 재무적으로 안정적인 상태를 유지하고 있음을 의미합니다. 영업이익률은 최근 몇 년간 꾸준한 증가세를 보이고 있으며, 현재 약 Y%의 높은 영업이익률을 기록하고 있습니다. 이러한 데이터는 동연컴퍼니의 재무적 안정성과 수익성을 반영하며, M&A 매도자로서 매력적인 조건을 제시합니다.\n",
      "ChecklistInspector: ({'업종': 10, '연매출': 12, '투자유치': 20, '부채비율': 25, '영업이익률': 8}, 75)\n",
      "SellSideAgent: 동연컴퍼니는 IT 서비스 및 소프트웨어 개발 업종에 종사하는 회사입니다. 연매출은 약 50억 원이며, 현재까지 총 20억 원의 투자를 유치했습니다. 부채비율은 약 50% 정도로 관리 가능한 수준이며, 영업이익률은 약 15%로 업계 평균과 비슷한 수준을 유지하고 있습니다. 이러한 컨텍스트를 제공함으로써 체크리스트 평가자는 동연컴퍼니의 M&A 매도자 위치를 더욱 정확하게 평가할 수 있을 것입니다.\n",
      "ChecklistInspector: ({'업종': 12, '연매출': 10, '투자유치': 20, '부채비율': 25, '영업이익률': 10}, 77)\n"
     ]
    }
   ],
   "source": [
    "from sell_side_agents import SellSideAgent\n",
    "from checklist_insepctor import ChecklistInspector\n",
    "from langgraph.graph import StateGraph\n",
    "from typing import TypedDict\n",
    "\n",
    "# 상태 정의\n",
    "class AgentState(TypedDict):\n",
    "    history: list[str]\n",
    "    turn: int\n",
    "    checklist: dict\n",
    "    sellside_context: str\n",
    "    user_query: str\n",
    "\n",
    "# 두 에이전트 초기화\n",
    "sellside_agent = SellSideAgent(db_stub=lambda x: f\"{x}의 회사 데이터입니다.\", api_key=os.getenv(\"SOLAR_API_KEY\"))\n",
    "checklist_inspector = ChecklistInspector(api_key=os.getenv(\"SOLAR_API_KEY\"))\n",
    "\n",
    "# SellSideAgent 노드\n",
    "def sellside_agent_node(state: AgentState) -> AgentState:\n",
    "    sellside_context = sellside_agent.generate_context(\"동연컴퍼니\", state[\"checklist\"])\n",
    "    return {\n",
    "        **state,\n",
    "        \"history\": state[\"history\"] + [f\"SellSideAgent: {sellside_context}\"],\n",
    "        \"sellside_context\": sellside_context,\n",
    "        \"turn\": state[\"turn\"] + 1,\n",
    "    }\n",
    "\n",
    "# ChecklistInspector 노드\n",
    "def checklist_inspector_node(state: AgentState) -> AgentState:\n",
    "    inspection_result = checklist_inspector.inspect_checklist(\n",
    "        state[\"checklist\"], state[\"sellside_context\"], state[\"user_query\"]\n",
    "    )\n",
    "    return {\n",
    "        **state,\n",
    "        \"history\": state[\"history\"] + [f\"ChecklistInspector: {inspection_result}\"],\n",
    "        \"turn\": state[\"turn\"] + 1,\n",
    "    }\n",
    "\n",
    "# 대화 종료 조건\n",
    "def check_done(state: AgentState) -> str:\n",
    "    if \"총점\" in state[\"history\"][-1] or state[\"turn\"] >= 4:\n",
    "        return \"END\"\n",
    "    return \"sellside\" if state[\"turn\"] % 2 == 0 else \"inspector\"\n",
    "\n",
    "# StateGraph 정의\n",
    "workflow = StateGraph(AgentState)\n",
    "workflow.add_node(\"sellside\", sellside_agent_node)\n",
    "workflow.add_node(\"inspector\", checklist_inspector_node)\n",
    "workflow.set_entry_point(\"sellside\")\n",
    "workflow.add_conditional_edges(\"sellside\", check_done)\n",
    "workflow.add_conditional_edges(\"inspector\", check_done)\n",
    "\n",
    "graph = workflow.compile()\n",
    "\n",
    "# 초기 상태\n",
    "initial_state = {\n",
    "    \"history\": [\"안녕하세요! 동연컴퍼니의 투자유치 점검을 도와드리겠습니다. 회사 측 정보 중 필요한 것이 있다면 점검자님께서 요청해 주시고, 회사 측 전문가님께서는 성심성의껏 사실만을 대답해주시길 바랍니다.\"],\n",
    "    \"turn\": 0,\n",
    "    \"checklist\": {\n",
    "        \"업종\": 20,\n",
    "        \"연매출\": 15,\n",
    "        \"투자유치\": 25,\n",
    "        \"부채비율\": 30,\n",
    "        \"영업이익률\": 10,\n",
    "    },\n",
    "    \"sellside_context\": \"\",\n",
    "    \"user_query\": \"헬스케어 산업에 종사하는, 연매출 100억 이상, 최근 1년 투자금 100억 이상, 작년 성장률 25% 이상, 영업이익률 10% 이상인 기업을 찾고 있습니다.\",\n",
    "}\n",
    "\n",
    "# 실행\n",
    "final_state = graph.invoke(initial_state)\n",
    "\n",
    "# 결과 출력\n",
    "print(\"\\n\\n🧠 전체 대화 로그:\")\n",
    "for msg in final_state[\"history\"]:\n",
    "    print(msg)"
   ]
  },
  {
   "cell_type": "code",
   "execution_count": null,
   "metadata": {},
   "outputs": [],
   "source": []
  }
 ],
 "metadata": {
  "kernelspec": {
   "display_name": "mna",
   "language": "python",
   "name": "python3"
  },
  "language_info": {
   "codemirror_mode": {
    "name": "ipython",
    "version": 3
   },
   "file_extension": ".py",
   "mimetype": "text/x-python",
   "name": "python",
   "nbconvert_exporter": "python",
   "pygments_lexer": "ipython3",
   "version": "3.10.16"
  }
 },
 "nbformat": 4,
 "nbformat_minor": 2
}
