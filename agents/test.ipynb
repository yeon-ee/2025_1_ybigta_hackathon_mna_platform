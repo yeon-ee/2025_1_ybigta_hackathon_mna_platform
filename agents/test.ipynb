{
 "cells": [
  {
   "cell_type": "code",
   "execution_count": 42,
   "metadata": {},
   "outputs": [],
   "source": [
    "import os\n",
    "from dotenv import load_dotenv\n",
    "from langchain_upstage import ChatUpstage\n",
    "load_dotenv()\n",
    "\n",
    "llm = ChatUpstage(api_key=os.getenv(\"SOLAR_API_KEY\"), model='solar-pro')"
   ]
  },
  {
   "cell_type": "code",
   "execution_count": 43,
   "metadata": {},
   "outputs": [],
   "source": [
    "import operator\n",
    "from typing import Annotated, Sequence\n",
    "from typing_extensions import TypedDict\n",
    "from langchain_core.messages import BaseMessage\n",
    "class State(TypedDict):\n",
    "    messages: Annotated[Sequence[BaseMessage], operator.add]\n",
    "    sender: Annotated[str, \"The sender of the last message\"]\n",
    "    score: Annotated[dict, \"The final score of inspector\"]\n",
    "    "
   ]
  },
  {
   "cell_type": "code",
   "execution_count": 44,
   "metadata": {},
   "outputs": [],
   "source": [
    "from typing import Annotated\n",
    "from langchain_teddynote.tools.tavily import TavilySearch"
   ]
  },
  {
   "cell_type": "code",
   "execution_count": 45,
   "metadata": {},
   "outputs": [],
   "source": [
    "import json\n",
    "from langchain.tools import tool\n",
    "\n",
    "@tool\n",
    "def fetch_from_db(input: str) -> str:\n",
    "    \"\"\" 입력: 회사명 \n",
    "        출력: DB 속 회사에 대한 정보\"\"\"\n",
    "    \n",
    "    dummy_db = {\n",
    "        \"핀업\": {\n",
    "            \"url\": \"https://www.innoforest.co.kr/company/CP00011911/핀업\",\n",
    "            \"기업명\": \"핀업\",\n",
    "            \"기업소개\": \"주식 종목 추천 및 투자 강의 플랫폼 '핀업' 운영 기업\",\n",
    "            \"상장여부\": \"비상장\",\n",
    "            \"설립일\": \"2015-06-30\",\n",
    "            \"홈페이지\": \"http://stock.finup.co.kr/\",\n",
    "            \"주소\": \"서울 강남구\",\n",
    "            \"카테고리\": [\"금융/보험/핀테크\", \"AI/딥테크/블록체인\", \"교육\", \"투자\"],\n",
    "            \"자본금\": \"7.0억원\",\n",
    "            \"고용인원\": \"21명\",\n",
    "            \"연매출\": \"98.5억원\",\n",
    "            \"영업이익\": \"8.9억\",\n",
    "            \"순이익\": \"1.1억\",\n",
    "            \"자산\": \"277.2억\",\n",
    "            \"부채\": \"165.7억\",\n",
    "            \"자본\": \"111.6억\"\n",
    "        }\n",
    "    }\n",
    "    result = dummy_db.get(input)\n",
    "    if result:\n",
    "        return json.dumps(result, ensure_ascii=False, indent=2)\n",
    "    return f\"'{input}'에 대한 정보가 없습니다.\"\n",
    "\n",
    "@tool\n",
    "def search_web(input: str) -> str:\n",
    "    \"\"\"지금은 데모 단계라서 사용하지 않음\"\"\"\n",
    "    if input.strip() != \"핀업\":\n",
    "        return f\"'{input}'에 대한 웹 검색은 허용되지 않습니다. 검색 가능한 회사는 '핀업'뿐입니다.\"\n",
    "    return f\"[MOCKED] 핀업에 대한 추가 웹 검색 결과가 없습니다.\"\n"
   ]
  },
  {
   "cell_type": "code",
   "execution_count": 46,
   "metadata": {},
   "outputs": [],
   "source": [
    "sellside_prompt = \"\"\"\n",
    "    당신은 친절한 {company_name}의 M&A 매도자입니다. 당신의 역할은 평가자가 요청한 정보를 정확히 제공하는 것입니다.\n",
    "    도구 사용 규칙:\n",
    "    1. 반드시 fetch_from_db 도구를 먼저 시도하세요.\n",
    "    2. search_web 도구는 오직 DB에 정보가 없을 경우에만 사용하세요.\n",
    "    3. 상상을 포함하지 말고, 반드시 사실만 기반으로 응답하세요.\n",
    "\"\"\"\n",
    "\n",
    "company_name = \"핀업\"\n",
    "\n",
    "def get_sellside_prompt(company_name: str) -> str:\n",
    "    return sellside_prompt.format(company_name=company_name)"
   ]
  },
  {
   "cell_type": "code",
   "execution_count": 47,
   "metadata": {},
   "outputs": [],
   "source": [
    "from langchain_core.messages import HumanMessage\n",
    "from langgraph.prebuilt import create_react_agent\n",
    "\n",
    "sellside_agent = create_react_agent(\n",
    "    llm, \n",
    "    tools=[fetch_from_db, search_web],\n",
    "    prompt=get_sellside_prompt(company_name),\n",
    ")\n",
    "\n",
    "def sellside_node(state: State) -> State:\n",
    "    result = sellside_agent.invoke(state)\n",
    "\n",
    "    last_message = HumanMessage(\n",
    "        content=result[\"messages\"][-1].content,\n",
    "        name=\"sellside\",\n",
    "    )\n",
    "    return {\n",
    "        \"messages\": [last_message]\n",
    "    }"
   ]
  },
  {
   "cell_type": "code",
   "execution_count": 48,
   "metadata": {},
   "outputs": [],
   "source": [
    "inspector_prompt = \"\"\"\n",
    "    당신은 엄격한 체크리스트 기반 M&A 평가 전문가입니다.\n",
    "    회사 '{company_name}'의 M&A 평가를 위해 체크리스트를 검토하고 있습니다.\n",
    "    다음은 체크리스트 항목과 항목별 배점입니다:\n",
    "    {checklist}\n",
    "\n",
    "    매수자의 요청:\n",
    "    {user_query}\n",
    "\n",
    "    이 정보를 기반으로 아래 JSON 형식으로 응답하세요:\n",
    "    {{\n",
    "        \"question\": \"질문 내용\",\n",
    "        \"final_score\": {{\"항목1\": 10, \"항목2\": 20, ...}}\n",
    "    }}\n",
    "\n",
    "    단, 정보가 부족하거나 모호한 항목이 있다면 \"question\"에 질문 내용을 작성하고 \"final_score\"는 빈 문자열로 반환하세요.\n",
    "    대답을 충분히 듣고 평가하기에 정보가 충분하다고 판단되면 \"question\"은 빈 문자열로 설정하고 \"final_score\"에 항목별 점수를 JSON 형식으로 작성하세요.\n",
    "\"\"\"\n",
    "checklist={\n",
    "    \"업종\": 20,\n",
    "    \"연매출\": 15,\n",
    "    \"투자유치\": 25,\n",
    "    \"부채비율\": 30,\n",
    "    \"영업이익률\": 10\n",
    "}\n",
    "\n",
    "user_query = \"헬스케어 산업에 종사하는, 연매출 100억 이상, 최근 1년 투자금 100억 이상, 작년 성장률 25% 이상, 영업이익률 10% 이상인 기업을 찾고 있습니다.\"\n",
    "\n",
    "def get_inspector_prompt(company_name: str) -> str:\n",
    "    return inspector_prompt.format(company_name=company_name,checklist=checklist, user_query=user_query)"
   ]
  },
  {
   "cell_type": "code",
   "execution_count": 49,
   "metadata": {},
   "outputs": [],
   "source": [
    "inspector_agent = create_react_agent(\n",
    "    llm, \n",
    "    tools=[fetch_from_db, search_web],\n",
    "    prompt=get_inspector_prompt(company_name),\n",
    ")\n",
    "\n",
    "def inspector_node(state: State) -> State:\n",
    "    result =inspector_agent.invoke(state)\n",
    "\n",
    "    last_message = HumanMessage(\n",
    "        content=result[\"messages\"][-1].content,\n",
    "        name=\"checklist_inspector\",\n",
    "    )\n",
    "    return {\n",
    "        \"messages\": [last_message]\n",
    "    }"
   ]
  },
  {
   "cell_type": "code",
   "execution_count": 50,
   "metadata": {},
   "outputs": [],
   "source": [
    "from langgraph.graph import END\n",
    "def router(state: State):\n",
    "    if state[\"sender\"] == \"sellside\":\n",
    "        return \"continue\"\n",
    "    elif state[\"sender\"] == \"checklist_inspector\":\n",
    "        if state[\"score\"]:\n",
    "            return END\n",
    "        else:\n",
    "            # 질문이 없는 경우\n",
    "            return \"continue\"\n",
    "    else:\n",
    "        raise ValueError(\"Unknown sender\")"
   ]
  },
  {
   "cell_type": "code",
   "execution_count": null,
   "metadata": {},
   "outputs": [],
   "source": [
    "from langgraph.graph import StateGraph, START, END\n",
    "from langgraph.graph import MessagesState\n",
    "from langgraph.checkpoint.memory import MemorySaver\n",
    "\n",
    "workflow = StateGraph(State)\n",
    "workflow.add_node(\"checklist_inspector\", inspector_node)\n",
    "workflow.add_node(\"sellside\", sellside_node)\n",
    "workflow.add_edge(START, \"checklist_inspector\")\n",
    "workflow.add_edge(\"sellside\", \"checklist_inspector\")\n",
    "workflow.add_conditional_edges(\n",
    "    \"checklist_inspector\",\n",
    "    router,\n",
    "    {\n",
    "        \"continue\": \"sellside\",\n",
    "        END: END,\n",
    "    },\n",
    ")\n",
    "app = workflow.compile(checkpointer=MemorySaver())\n"
   ]
  },
  {
   "cell_type": "code",
   "execution_count": 56,
   "metadata": {},
   "outputs": [
    {
     "data": {
      "image/png": "[encoded data removed]",
      "text/plain": [
       "<IPython.core.display.Image object>"
      ]
     },
     "metadata": {},
     "output_type": "display_data"
    }
   ],
   "source": [
    "from langchain_teddynote.graphs import visualize_graph\n",
    "\n",
    "visualize_graph(app, xray=True)"
   ]
  },
  {
   "cell_type": "code",
   "execution_count": null,
   "metadata": {},
   "outputs": [
    {
     "ename": "TypeError",
     "evalue": "invoke_graph() missing 1 required positional argument: 'inputs'",
     "output_type": "error",
     "traceback": [
      "\u001b[0;31m---------------------------------------------------------------------------\u001b[0m",
      "\u001b[0;31mTypeError\u001b[0m                                 Traceback (most recent call last)",
      "Cell \u001b[0;32mIn[59], line 17\u001b[0m\n\u001b[1;32m      7\u001b[0m \u001b[38;5;66;03m# 초기 상태 설정\u001b[39;00m\n\u001b[1;32m      8\u001b[0m inputs \u001b[38;5;241m=\u001b[39m {\n\u001b[1;32m      9\u001b[0m     \u001b[38;5;124m\"\u001b[39m\u001b[38;5;124mmessages\u001b[39m\u001b[38;5;124m\"\u001b[39m: [\n\u001b[1;32m     10\u001b[0m         HumanMessage(\n\u001b[0;32m   (...)\u001b[0m\n\u001b[1;32m     14\u001b[0m     \u001b[38;5;124m\"\u001b[39m\u001b[38;5;124mscore\u001b[39m\u001b[38;5;124m\"\u001b[39m: {}\n\u001b[1;32m     15\u001b[0m }\n\u001b[0;32m---> 17\u001b[0m \u001b[43minvoke_graph\u001b[49m\u001b[43m(\u001b[49m\u001b[43mapp\u001b[49m\u001b[43m,\u001b[49m\u001b[43m \u001b[49m\u001b[43mconfig\u001b[49m\u001b[38;5;241;43m=\u001b[39;49m\u001b[43mconfig\u001b[49m\u001b[43m,\u001b[49m\u001b[43m \u001b[49m\u001b[43mnode_names\u001b[49m\u001b[38;5;241;43m=\u001b[39;49m\u001b[43m[\u001b[49m\u001b[38;5;124;43m\"\u001b[39;49m\u001b[38;5;124;43msellside\u001b[39;49m\u001b[38;5;124;43m\"\u001b[39;49m\u001b[43m,\u001b[49m\u001b[43m \u001b[49m\u001b[38;5;124;43m\"\u001b[39;49m\u001b[38;5;124;43mchecklist_inspector\u001b[39;49m\u001b[38;5;124;43m\"\u001b[39;49m\u001b[43m]\u001b[49m\u001b[43m)\u001b[49m\n",
      "\u001b[0;31mTypeError\u001b[0m: invoke_graph() missing 1 required positional argument: 'inputs'"
     ]
    }
   ],
   "source": [
    "from langchain_core.runnables import RunnableConfig\n",
    "from langchain_teddynote.messages import random_uuid, invoke_graph\n",
    "from langchain_core.messages import HumanMessage\n",
    "\n",
    "config = RunnableConfig(recursion_limit=10, configurable={\"thread_id\": random_uuid()})\n",
    "\n",
    "# 초기 상태 설정\n",
    "inputs = {\n",
    "    \"messages\": [\n",
    "        HumanMessage(\n",
    "            content=\"안녕하세요, 핀업에 대한 M&A 평가 점수를 요청합니다.\"\n",
    "        ),\n",
    "    ],\n",
    "    \"score\": {}\n",
    "}\n",
    "\n",
    "invoke_graph(app, inputs, config, node_names=[\"sellside\", \"checklist_inspector\"])\n"
   ]
  }
 ],
 "metadata": {
  "kernelspec": {
   "display_name": "mna",
   "language": "python",
   "name": "python3"
  },
  "language_info": {
   "codemirror_mode": {
    "name": "ipython",
    "version": 3
   },
   "file_extension": ".py",
   "mimetype": "text/x-python",
   "name": "python",
   "nbconvert_exporter": "python",
   "pygments_lexer": "ipython3",
   "version": "3.10.16"
  }
 },
 "nbformat": 4,
 "nbformat_minor": 2
}
